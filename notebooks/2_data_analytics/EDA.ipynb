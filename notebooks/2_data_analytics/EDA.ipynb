{
 "cells": [
  {
   "cell_type": "code",
   "execution_count": null,
   "id": "9e0c2ee0",
   "metadata": {},
   "outputs": [
    {
     "ename": "NameError",
     "evalue": "name 'long_df' is not defined",
     "output_type": "error",
     "traceback": [
      "\u001b[31m---------------------------------------------------------------------------\u001b[39m",
      "\u001b[31mNameError\u001b[39m                                 Traceback (most recent call last)",
      "\u001b[36mCell\u001b[39m\u001b[36m \u001b[39m\u001b[32mIn[1]\u001b[39m\u001b[32m, line 6\u001b[39m\n\u001b[32m      4\u001b[39m \u001b[38;5;28;01mimport\u001b[39;00m\u001b[38;5;250m \u001b[39m\u001b[34;01mpandas\u001b[39;00m\u001b[38;5;250m \u001b[39m\u001b[38;5;28;01mas\u001b[39;00m\u001b[38;5;250m \u001b[39m\u001b[34;01mpd\u001b[39;00m\n\u001b[32m      5\u001b[39m \u001b[38;5;66;03m# Assuming 'long_df' is your DataFrame and it has a 'timestamp_utc' column\u001b[39;00m\n\u001b[32m----> \u001b[39m\u001b[32m6\u001b[39m long_df[\u001b[33m'\u001b[39m\u001b[33mtimestamp_utc\u001b[39m\u001b[33m'\u001b[39m] = pd.to_datetime(\u001b[43mlong_df\u001b[49m[\u001b[33m'\u001b[39m\u001b[33mtimestamp_utc\u001b[39m\u001b[33m'\u001b[39m])\n\u001b[32m      7\u001b[39m long_df[\u001b[33m'\u001b[39m\u001b[33mmonth\u001b[39m\u001b[33m'\u001b[39m] = long_df[\u001b[33m'\u001b[39m\u001b[33mtimestamp_utc\u001b[39m\u001b[33m'\u001b[39m].dt.month\n\u001b[32m      8\u001b[39m avg_temp_by_month = long_df.groupby(\u001b[33m'\u001b[39m\u001b[33mmonth\u001b[39m\u001b[33m'\u001b[39m)[\u001b[33m'\u001b[39m\u001b[33mcooling_water_temp_C\u001b[39m\u001b[33m'\u001b[39m].mean()\n",
      "\u001b[31mNameError\u001b[39m: name 'long_df' is not defined"
     ]
    }
   ],
   "source": []
  }
 ],
 "metadata": {
  "kernelspec": {
   "display_name": "Python 3 (ipykernel)",
   "language": "python",
   "name": "python3"
  },
  "language_info": {
   "codemirror_mode": {
    "name": "ipython",
    "version": 3
   },
   "file_extension": ".py",
   "mimetype": "text/x-python",
   "name": "python",
   "nbconvert_exporter": "python",
   "pygments_lexer": "ipython3",
   "version": "3.12.1"
  }
 },
 "nbformat": 4,
 "nbformat_minor": 5
}
