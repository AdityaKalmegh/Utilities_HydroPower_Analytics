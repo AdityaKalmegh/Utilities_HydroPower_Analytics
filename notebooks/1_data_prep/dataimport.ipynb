{
 "cells": [
  {
   "cell_type": "code",
   "execution_count": 27,
   "id": "f58ab111",
   "metadata": {},
   "outputs": [],
   "source": [
    "import pandas as pd\n",
    "\n",
    "# Corrected file path relative to the notebook\n",
    "file_path = '../../data/raw/PreAssignmentDataSet_StatorTemp.csv'\n",
    "\n",
    "# Load the data\n",
    "df = pd.read_csv(file_path)"
   ]
  },
  {
   "cell_type": "code",
   "execution_count": 28,
   "id": "5caa1a6f",
   "metadata": {},
   "outputs": [
    {
     "data": {
      "text/plain": [
       "timestamp_utc                           0\n",
       "datetime_stamp_pacific                  0\n",
       "C-02_avg_winding_temp(C)                0\n",
       "C-04_avg_winding_temp(C)                3\n",
       "C-05_avg_winding_temp(C)                2\n",
       "C-06_avg_winding_temp(C)                2\n",
       "C-07_avg_winding_temp(C)                2\n",
       "C-02_total_current(A)                   2\n",
       "C-04_total_current(A)                   3\n",
       "C-05_total_current(A)                   2\n",
       "C-06_total_current(A)                   2\n",
       "C-07_total_current(A)                   2\n",
       "C-02_avg_cooling_water_flow(gal/min)    2\n",
       "C-04_avg_cooling_water_flow(gal/min)    3\n",
       "C-05_avg_cooling_water_flow(gal/min)    2\n",
       "C-06_avg_cooling_water_flow(gal/min)    2\n",
       "C-07_avg_cooling_water_flow(gal/min)    2\n",
       "C-02_avg_cooling_water_temp(C)          2\n",
       "C-04_avg_cooling_water_temp(C)          3\n",
       "C-05_avg_cooling_water_temp(C)          2\n",
       "C-06_avg_cooling_water_temp(C)          2\n",
       "C-07_avg_cooling_water_temp(C)          2\n",
       "C-02_avg_cooling_air_out_temp(C)        2\n",
       "C-04_avg_cooling_air_out_temp(C)        3\n",
       "C-05_avg_cooling_air_out_temp(C)        2\n",
       "C-06_avg_cooling_air_out_temp(C)        2\n",
       "C-07_avg_cooling_air_out_temp(C)        2\n",
       "dtype: int64"
      ]
     },
     "execution_count": 28,
     "metadata": {},
     "output_type": "execute_result"
    }
   ],
   "source": [
    "df.isna().sum()  # Check for missing values"
   ]
  },
  {
   "cell_type": "code",
   "execution_count": null,
   "id": "94a6f89c",
   "metadata": {},
   "outputs": [
    {
     "name": "stdout",
     "output_type": "stream",
     "text": [
      "Total NA (missing) values: 53\n"
     ]
    }
   ],
   "source": [
    "# Q1: Count total NA values in the whole dataset\n",
    "total_na = df.isna().sum().sum()\n",
    "\n",
    "print(f\"Total NA (missing) values: {total_na}\")\n",
    "\n"
   ]
  },
  {
   "cell_type": "code",
   "execution_count": 32,
   "id": "cf3de8a2",
   "metadata": {},
   "outputs": [],
   "source": [
    "#Q1 # Fill all NA values with 0\n",
    "df.fillna(0, inplace=True)"
   ]
  },
  {
   "cell_type": "code",
   "execution_count": 18,
   "id": "8fb264fa",
   "metadata": {},
   "outputs": [
    {
     "data": {
      "text/plain": [
       "timestamp_utc                           0\n",
       "datetime_stamp_pacific                  0\n",
       "C-02_avg_winding_temp(C)                0\n",
       "C-04_avg_winding_temp(C)                0\n",
       "C-05_avg_winding_temp(C)                0\n",
       "C-06_avg_winding_temp(C)                0\n",
       "C-07_avg_winding_temp(C)                0\n",
       "C-02_total_current(A)                   0\n",
       "C-04_total_current(A)                   0\n",
       "C-05_total_current(A)                   0\n",
       "C-06_total_current(A)                   0\n",
       "C-07_total_current(A)                   0\n",
       "C-02_avg_cooling_water_flow(gal/min)    0\n",
       "C-04_avg_cooling_water_flow(gal/min)    0\n",
       "C-05_avg_cooling_water_flow(gal/min)    0\n",
       "C-06_avg_cooling_water_flow(gal/min)    0\n",
       "C-07_avg_cooling_water_flow(gal/min)    0\n",
       "C-02_avg_cooling_water_temp(C)          0\n",
       "C-04_avg_cooling_water_temp(C)          0\n",
       "C-05_avg_cooling_water_temp(C)          0\n",
       "C-06_avg_cooling_water_temp(C)          0\n",
       "C-07_avg_cooling_water_temp(C)          0\n",
       "C-02_avg_cooling_air_out_temp(C)        0\n",
       "C-04_avg_cooling_air_out_temp(C)        0\n",
       "C-05_avg_cooling_air_out_temp(C)        0\n",
       "C-06_avg_cooling_air_out_temp(C)        0\n",
       "C-07_avg_cooling_air_out_temp(C)        0\n",
       "dtype: int64"
      ]
     },
     "execution_count": 18,
     "metadata": {},
     "output_type": "execute_result"
    }
   ],
   "source": [
    "df.isnull().sum()  # Check for missing values"
   ]
  },
  {
   "cell_type": "code",
   "execution_count": 33,
   "id": "88a972ad",
   "metadata": {},
   "outputs": [],
   "source": [
    "# Pivot dataframe to long format for compressor units\n",
    "# Assuming the columns for compressor units are named like 'C-02_avg_winding_temp(C)', etc.\n",
    "\n",
    "compressor_units = ['C-02', 'C-04', 'C-05', 'C-06', 'C-07']\n",
    "long_df = pd.DataFrame()\n",
    "\n",
    "for unit in compressor_units:\n",
    "    unit_df = df[['timestamp_utc', 'datetime_stamp_pacific']].copy()\n",
    "    unit_df['CompressorUnit_Details'] = unit\n",
    "    unit_df['avg_winding_temp_C'] = df[f'{unit}_avg_winding_temp(C)']\n",
    "    unit_df['total_current_A'] = df[f'{unit}_total_current(A)']\n",
    "    unit_df['avg_cooling_water_flow_galpermin'] = df[f'{unit}_avg_cooling_water_flow(gal/min)']\n",
    "    unit_df['avg_cooling_water_temp_C'] = df[f'{unit}_avg_cooling_water_temp(C)']\n",
    "    unit_df['avg_cooling_air_out_temp_C'] = df[f'{unit}_avg_cooling_air_out_temp(C)']\n",
    "    \n",
    "    long_df = pd.concat([long_df, unit_df], ignore_index=True)"
   ]
  },
  {
   "cell_type": "code",
   "execution_count": 34,
   "id": "57b78af4",
   "metadata": {},
   "outputs": [
    {
     "name": "stdout",
     "output_type": "stream",
     "text": [
      "<class 'pandas.core.frame.DataFrame'>\n",
      "RangeIndex: 43800 entries, 0 to 43799\n",
      "Data columns (total 8 columns):\n",
      " #   Column                            Non-Null Count  Dtype  \n",
      "---  ------                            --------------  -----  \n",
      " 0   timestamp_utc                     43800 non-null  object \n",
      " 1   datetime_stamp_pacific            43800 non-null  object \n",
      " 2   CompressorUnit_Details            43800 non-null  object \n",
      " 3   avg_winding_temp_C                43800 non-null  float64\n",
      " 4   total_current_A                   43800 non-null  float64\n",
      " 5   avg_cooling_water_flow_galpermin  43800 non-null  float64\n",
      " 6   avg_cooling_water_temp_C          43800 non-null  float64\n",
      " 7   avg_cooling_air_out_temp_C        43800 non-null  float64\n",
      "dtypes: float64(5), object(3)\n",
      "memory usage: 2.7+ MB\n"
     ]
    }
   ],
   "source": [
    "long_df.info()  # Display the structure of the long dataframe"
   ]
  },
  {
   "cell_type": "code",
   "execution_count": 26,
   "id": "feee1c04",
   "metadata": {},
   "outputs": [
    {
     "data": {
      "text/html": [
       "<div>\n",
       "<style scoped>\n",
       "    .dataframe tbody tr th:only-of-type {\n",
       "        vertical-align: middle;\n",
       "    }\n",
       "\n",
       "    .dataframe tbody tr th {\n",
       "        vertical-align: top;\n",
       "    }\n",
       "\n",
       "    .dataframe thead th {\n",
       "        text-align: right;\n",
       "    }\n",
       "</style>\n",
       "<table border=\"1\" class=\"dataframe\">\n",
       "  <thead>\n",
       "    <tr style=\"text-align: right;\">\n",
       "      <th></th>\n",
       "      <th>timestamp_utc</th>\n",
       "      <th>datetime_stamp_pacific</th>\n",
       "      <th>CompressorUnit_Details</th>\n",
       "      <th>avg_winding_temp_C</th>\n",
       "      <th>total_current_A</th>\n",
       "      <th>avg_cooling_water_flow_galpermin)</th>\n",
       "      <th>avg_cooling_water_temp_C</th>\n",
       "      <th>avg_cooling_air_out_temp_C</th>\n",
       "    </tr>\n",
       "  </thead>\n",
       "  <tbody>\n",
       "    <tr>\n",
       "      <th>0</th>\n",
       "      <td>2018-01-01 08:00:00+00:00</td>\n",
       "      <td>2018-01-01 00:00:00</td>\n",
       "      <td>C-02</td>\n",
       "      <td>71.378429</td>\n",
       "      <td>8160.343625</td>\n",
       "      <td>179.440833</td>\n",
       "      <td>20.320124</td>\n",
       "      <td>30.761616</td>\n",
       "    </tr>\n",
       "    <tr>\n",
       "      <th>1</th>\n",
       "      <td>2018-01-01 09:00:00+00:00</td>\n",
       "      <td>2018-01-01 01:00:00</td>\n",
       "      <td>C-02</td>\n",
       "      <td>68.943909</td>\n",
       "      <td>7413.362667</td>\n",
       "      <td>176.793354</td>\n",
       "      <td>20.353998</td>\n",
       "      <td>30.574989</td>\n",
       "    </tr>\n",
       "    <tr>\n",
       "      <th>2</th>\n",
       "      <td>2018-01-01 10:00:00+00:00</td>\n",
       "      <td>2018-01-01 02:00:00</td>\n",
       "      <td>C-02</td>\n",
       "      <td>66.339036</td>\n",
       "      <td>6567.083083</td>\n",
       "      <td>175.072479</td>\n",
       "      <td>20.239409</td>\n",
       "      <td>30.214402</td>\n",
       "    </tr>\n",
       "    <tr>\n",
       "      <th>3</th>\n",
       "      <td>2018-01-01 11:00:00+00:00</td>\n",
       "      <td>2018-01-01 03:00:00</td>\n",
       "      <td>C-02</td>\n",
       "      <td>66.314878</td>\n",
       "      <td>7924.631875</td>\n",
       "      <td>174.162500</td>\n",
       "      <td>20.133054</td>\n",
       "      <td>29.904310</td>\n",
       "    </tr>\n",
       "    <tr>\n",
       "      <th>4</th>\n",
       "      <td>2018-01-01 12:00:00+00:00</td>\n",
       "      <td>2018-01-01 04:00:00</td>\n",
       "      <td>C-02</td>\n",
       "      <td>67.678225</td>\n",
       "      <td>8111.058042</td>\n",
       "      <td>174.318333</td>\n",
       "      <td>20.206669</td>\n",
       "      <td>29.980755</td>\n",
       "    </tr>\n",
       "  </tbody>\n",
       "</table>\n",
       "</div>"
      ],
      "text/plain": [
       "              timestamp_utc datetime_stamp_pacific CompressorUnit_Details  \\\n",
       "0 2018-01-01 08:00:00+00:00    2018-01-01 00:00:00                   C-02   \n",
       "1 2018-01-01 09:00:00+00:00    2018-01-01 01:00:00                   C-02   \n",
       "2 2018-01-01 10:00:00+00:00    2018-01-01 02:00:00                   C-02   \n",
       "3 2018-01-01 11:00:00+00:00    2018-01-01 03:00:00                   C-02   \n",
       "4 2018-01-01 12:00:00+00:00    2018-01-01 04:00:00                   C-02   \n",
       "\n",
       "   avg_winding_temp_C  total_current_A  avg_cooling_water_flow_galpermin)  \\\n",
       "0           71.378429      8160.343625                         179.440833   \n",
       "1           68.943909      7413.362667                         176.793354   \n",
       "2           66.339036      6567.083083                         175.072479   \n",
       "3           66.314878      7924.631875                         174.162500   \n",
       "4           67.678225      8111.058042                         174.318333   \n",
       "\n",
       "   avg_cooling_water_temp_C  avg_cooling_air_out_temp_C  \n",
       "0                 20.320124                   30.761616  \n",
       "1                 20.353998                   30.574989  \n",
       "2                 20.239409                   30.214402  \n",
       "3                 20.133054                   29.904310  \n",
       "4                 20.206669                   29.980755  "
      ]
     },
     "execution_count": 26,
     "metadata": {},
     "output_type": "execute_result"
    }
   ],
   "source": [
    "long_df.head(5)"
   ]
  },
  {
   "cell_type": "code",
   "execution_count": 35,
   "id": "2e6104e7",
   "metadata": {},
   "outputs": [],
   "source": [
    "# Save reshaped data\n",
    "long_df.to_csv('../../data/processed/reshaped_compressor_data.csv', index=False)"
   ]
  }
 ],
 "metadata": {
  "kernelspec": {
   "display_name": "Python 3 (ipykernel)",
   "language": "python",
   "name": "python3"
  },
  "language_info": {
   "codemirror_mode": {
    "name": "ipython",
    "version": 3
   },
   "file_extension": ".py",
   "mimetype": "text/x-python",
   "name": "python",
   "nbconvert_exporter": "python",
   "pygments_lexer": "ipython3",
   "version": "3.12.1"
  }
 },
 "nbformat": 4,
 "nbformat_minor": 5
}
