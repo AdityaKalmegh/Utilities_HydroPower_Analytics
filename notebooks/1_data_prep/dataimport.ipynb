{
 "cells": [
  {
   "cell_type": "code",
   "execution_count": 27,
   "id": "f58ab111",
   "metadata": {},
   "outputs": [],
   "source": [
    "import pandas as pd\n",
    "\n",
    "# Corrected file path relative to the notebook\n",
    "file_path = '../../data/raw/PreAssignmentDataSet_StatorTemp.csv'\n",
    "\n",
    "# Load the data\n",
    "df = pd.read_csv(file_path)"
   ]
  },
  {
   "cell_type": "code",
   "execution_count": 28,
   "id": "5caa1a6f",
   "metadata": {},
   "outputs": [
    {
     "data": {
      "text/plain": [
       "timestamp_utc                           0\n",
       "datetime_stamp_pacific                  0\n",
       "C-02_avg_winding_temp(C)                0\n",
       "C-04_avg_winding_temp(C)                3\n",
       "C-05_avg_winding_temp(C)                2\n",
       "C-06_avg_winding_temp(C)                2\n",
       "C-07_avg_winding_temp(C)                2\n",
       "C-02_total_current(A)                   2\n",
       "C-04_total_current(A)                   3\n",
       "C-05_total_current(A)                   2\n",
       "C-06_total_current(A)                   2\n",
       "C-07_total_current(A)                   2\n",
       "C-02_avg_cooling_water_flow(gal/min)    2\n",
       "C-04_avg_cooling_water_flow(gal/min)    3\n",
       "C-05_avg_cooling_water_flow(gal/min)    2\n",
       "C-06_avg_cooling_water_flow(gal/min)    2\n",
       "C-07_avg_cooling_water_flow(gal/min)    2\n",
       "C-02_avg_cooling_water_temp(C)          2\n",
       "C-04_avg_cooling_water_temp(C)          3\n",
       "C-05_avg_cooling_water_temp(C)          2\n",
       "C-06_avg_cooling_water_temp(C)          2\n",
       "C-07_avg_cooling_water_temp(C)          2\n",
       "C-02_avg_cooling_air_out_temp(C)        2\n",
       "C-04_avg_cooling_air_out_temp(C)        3\n",
       "C-05_avg_cooling_air_out_temp(C)        2\n",
       "C-06_avg_cooling_air_out_temp(C)        2\n",
       "C-07_avg_cooling_air_out_temp(C)        2\n",
       "dtype: int64"
      ]
     },
     "execution_count": 28,
     "metadata": {},
     "output_type": "execute_result"
    }
   ],
   "source": [
    "df.isna().sum()  # Check for missing values"
   ]
  },
  {
   "cell_type": "code",
   "execution_count": null,
   "id": "94a6f89c",
   "metadata": {},
   "outputs": [
    {
     "name": "stdout",
     "output_type": "stream",
     "text": [
      "Total NA (missing) values: 53\n"
     ]
    }
   ],
   "source": [
    "# Q1: Count total NA values in the whole dataset\n",
    "total_na = df.isna().sum().sum()\n",
    "\n",
    "print(f\"Total NA (missing) values: {total_na}\")\n",
    "\n"
   ]
  },
  {
   "cell_type": "code",
   "execution_count": 32,
   "id": "cf3de8a2",
   "metadata": {},
   "outputs": [],
   "source": [
    "#Q1 # Fill all NA values with 0\n",
    "df.fillna(0, inplace=True)"
   ]
  },
  {
   "cell_type": "code",
   "execution_count": 18,
   "id": "8fb264fa",
   "metadata": {},
   "outputs": [
    {
     "data": {
      "text/plain": [
       "timestamp_utc                           0\n",
       "datetime_stamp_pacific                  0\n",
       "C-02_avg_winding_temp(C)                0\n",
       "C-04_avg_winding_temp(C)                0\n",
       "C-05_avg_winding_temp(C)                0\n",
       "C-06_avg_winding_temp(C)                0\n",
       "C-07_avg_winding_temp(C)                0\n",
       "C-02_total_current(A)                   0\n",
       "C-04_total_current(A)                   0\n",
       "C-05_total_current(A)                   0\n",
       "C-06_total_current(A)                   0\n",
       "C-07_total_current(A)                   0\n",
       "C-02_avg_cooling_water_flow(gal/min)    0\n",
       "C-04_avg_cooling_water_flow(gal/min)    0\n",
       "C-05_avg_cooling_water_flow(gal/min)    0\n",
       "C-06_avg_cooling_water_flow(gal/min)    0\n",
       "C-07_avg_cooling_water_flow(gal/min)    0\n",
       "C-02_avg_cooling_water_temp(C)          0\n",
       "C-04_avg_cooling_water_temp(C)          0\n",
       "C-05_avg_cooling_water_temp(C)          0\n",
       "C-06_avg_cooling_water_temp(C)          0\n",
       "C-07_avg_cooling_water_temp(C)          0\n",
       "C-02_avg_cooling_air_out_temp(C)        0\n",
       "C-04_avg_cooling_air_out_temp(C)        0\n",
       "C-05_avg_cooling_air_out_temp(C)        0\n",
       "C-06_avg_cooling_air_out_temp(C)        0\n",
       "C-07_avg_cooling_air_out_temp(C)        0\n",
       "dtype: int64"
      ]
     },
     "execution_count": 18,
     "metadata": {},
     "output_type": "execute_result"
    }
   ],
   "source": [
    "df.isnull().sum()  # Check for missing values"
   ]
  },
  {
   "cell_type": "code",
   "execution_count": 33,
   "id": "88a972ad",
   "metadata": {},
   "outputs": [],
   "source": [
    "# Pivot dataframe to long format for compressor units\n",
    "# Assuming the columns for compressor units are named like 'C-02_avg_winding_temp(C)', etc.\n",
    "\n",
    "compressor_units = ['C-02', 'C-04', 'C-05', 'C-06', 'C-07']\n",
    "long_df = pd.DataFrame()\n",
    "\n",
    "for unit in compressor_units:\n",
    "    unit_df = df[['timestamp_utc', 'datetime_stamp_pacific']].copy()\n",
    "    unit_df['CompressorUnit_Details'] = unit\n",
    "    unit_df['avg_winding_temp_C'] = df[f'{unit}_avg_winding_temp(C)']\n",
    "    unit_df['total_current_A'] = df[f'{unit}_total_current(A)']\n",
    "    unit_df['avg_cooling_water_flow_galpermin'] = df[f'{unit}_avg_cooling_water_flow(gal/min)']\n",
    "    unit_df['avg_cooling_water_temp_C'] = df[f'{unit}_avg_cooling_water_temp(C)']\n",
    "    unit_df['avg_cooling_air_out_temp_C'] = df[f'{unit}_avg_cooling_air_out_temp(C)']\n",
    "    \n",
    "    long_df = pd.concat([long_df, unit_df], ignore_index=True)"
   ]
  },
  {
   "cell_type": "code",
   "execution_count": 34,
   "id": "57b78af4",
   "metadata": {},
   "outputs": [
    {
     "name": "stdout",
     "output_type": "stream",
     "text": [
      "<class 'pandas.core.frame.DataFrame'>\n",
      "RangeIndex: 43800 entries, 0 to 43799\n",
      "Data columns (total 8 columns):\n",
      " #   Column                            Non-Null Count  Dtype  \n",
      "---  ------                            --------------  -----  \n",
      " 0   timestamp_utc                     43800 non-null  object \n",
      " 1   datetime_stamp_pacific            43800 non-null  object \n",
      " 2   CompressorUnit_Details            43800 non-null  object \n",
      " 3   avg_winding_temp_C                43800 non-null  float64\n",
      " 4   total_current_A                   43800 non-null  float64\n",
      " 5   avg_cooling_water_flow_galpermin  43800 non-null  float64\n",
      " 6   avg_cooling_water_temp_C          43800 non-null  float64\n",
      " 7   avg_cooling_air_out_temp_C        43800 non-null  float64\n",
      "dtypes: float64(5), object(3)\n",
      "memory usage: 2.7+ MB\n"
     ]
    }
   ],
   "source": [
    "long_df.info()  # Display the structure of the long dataframe"
   ]
  },
  {
   "cell_type": "code",
   "execution_count": 26,
   "id": "feee1c04",
   "metadata": {},
   "outputs": [
    {
     "data": {
      "text/html": [
       "<div>\n",
       "<style scoped>\n",
       "    .dataframe tbody tr th:only-of-type {\n",
       "        vertical-align: middle;\n",
       "    }\n",
       "\n",
       "    .dataframe tbody tr th {\n",
       "        vertical-align: top;\n",
       "    }\n",
       "\n",
       "    .dataframe thead th {\n",
       "        text-align: right;\n",
       "    }\n",
       "</style>\n",
       "<table border=\"1\" class=\"dataframe\">\n",
       "  <thead>\n",
       "    <tr style=\"text-align: right;\">\n",
       "      <th></th>\n",
       "      <th>timestamp_utc</th>\n",
       "      <th>datetime_stamp_pacific</th>\n",
       "      <th>CompressorUnit_Details</th>\n",
       "      <th>avg_winding_temp_C</th>\n",
       "      <th>total_current_A</th>\n",
       "      <th>avg_cooling_water_flow_galpermin)</th>\n",
       "      <th>avg_cooling_water_temp_C</th>\n",
       "      <th>avg_cooling_air_out_temp_C</th>\n",
       "    </tr>\n",
       "  </thead>\n",
       "  <tbody>\n",
       "    <tr>\n",
       "      <th>0</th>\n",
       "      <td>2018-01-01 08:00:00+00:00</td>\n",
       "      <td>2018-01-01 00:00:00</td>\n",
       "      <td>C-02</td>\n",
       "      <td>71.378429</td>\n",
       "      <td>8160.343625</td>\n",
       "      <td>179.440833</td>\n",
       "      <td>20.320124</td>\n",
       "      <td>30.761616</td>\n",
       "    </tr>\n",
       "    <tr>\n",
       "      <th>1</th>\n",
       "      <td>2018-01-01 09:00:00+00:00</td>\n",
       "      <td>2018-01-01 01:00:00</td>\n",
       "      <td>C-02</td>\n",
       "      <td>68.943909</td>\n",
       "      <td>7413.362667</td>\n",
       "      <td>176.793354</td>\n",
       "      <td>20.353998</td>\n",
       "      <td>30.574989</td>\n",
       "    </tr>\n",
       "    <tr>\n",
       "      <th>2</th>\n",
       "      <td>2018-01-01 10:00:00+00:00</td>\n",
       "      <td>2018-01-01 02:00:00</td>\n",
       "      <td>C-02</td>\n",
       "      <td>66.339036</td>\n",
       "      <td>6567.083083</td>\n",
       "      <td>175.072479</td>\n",
       "      <td>20.239409</td>\n",
       "      <td>30.214402</td>\n",
       "    </tr>\n",
       "    <tr>\n",
       "      <th>3</th>\n",
       "      <td>2018-01-01 11:00:00+00:00</td>\n",
       "      <td>2018-01-01 03:00:00</td>\n",
       "      <td>C-02</td>\n",
       "      <td>66.314878</td>\n",
       "      <td>7924.631875</td>\n",
       "      <td>174.162500</td>\n",
       "      <td>20.133054</td>\n",
       "      <td>29.904310</td>\n",
       "    </tr>\n",
       "    <tr>\n",
       "      <th>4</th>\n",
       "      <td>2018-01-01 12:00:00+00:00</td>\n",
       "      <td>2018-01-01 04:00:00</td>\n",
       "      <td>C-02</td>\n",
       "      <td>67.678225</td>\n",
       "      <td>8111.058042</td>\n",
       "      <td>174.318333</td>\n",
       "      <td>20.206669</td>\n",
       "      <td>29.980755</td>\n",
       "    </tr>\n",
       "  </tbody>\n",
       "</table>\n",
       "</div>"
      ],
      "text/plain": [
       "              timestamp_utc datetime_stamp_pacific CompressorUnit_Details  \\\n",
       "0 2018-01-01 08:00:00+00:00    2018-01-01 00:00:00                   C-02   \n",
       "1 2018-01-01 09:00:00+00:00    2018-01-01 01:00:00                   C-02   \n",
       "2 2018-01-01 10:00:00+00:00    2018-01-01 02:00:00                   C-02   \n",
       "3 2018-01-01 11:00:00+00:00    2018-01-01 03:00:00                   C-02   \n",
       "4 2018-01-01 12:00:00+00:00    2018-01-01 04:00:00                   C-02   \n",
       "\n",
       "   avg_winding_temp_C  total_current_A  avg_cooling_water_flow_galpermin)  \\\n",
       "0           71.378429      8160.343625                         179.440833   \n",
       "1           68.943909      7413.362667                         176.793354   \n",
       "2           66.339036      6567.083083                         175.072479   \n",
       "3           66.314878      7924.631875                         174.162500   \n",
       "4           67.678225      8111.058042                         174.318333   \n",
       "\n",
       "   avg_cooling_water_temp_C  avg_cooling_air_out_temp_C  \n",
       "0                 20.320124                   30.761616  \n",
       "1                 20.353998                   30.574989  \n",
       "2                 20.239409                   30.214402  \n",
       "3                 20.133054                   29.904310  \n",
       "4                 20.206669                   29.980755  "
      ]
     },
     "execution_count": 26,
     "metadata": {},
     "output_type": "execute_result"
    }
   ],
   "source": [
    "long_df.head(5)"
   ]
  },
  {
   "cell_type": "code",
   "execution_count": null,
   "id": "25f11c3e",
   "metadata": {},
   "outputs": [],
   "source": [
    "#Q1B - Create a status column based on total_current_A. [Assuming 'offline' if less than 10A    ]\n",
    "long_df['status'] = long_df['total_current_A'].apply(lambda x: 'offline' if x < 10 else 'online')\n",
    "\n"
   ]
  },
  {
   "cell_type": "code",
   "execution_count": 37,
   "id": "2e6104e7",
   "metadata": {},
   "outputs": [],
   "source": [
    "# Save reshaped data\n",
    "long_df.to_csv('../../data/processed/reshaped_compressor_data.csv', index=False)"
   ]
  },
  {
   "cell_type": "code",
   "execution_count": 39,
   "id": "8f9db6e8",
   "metadata": {},
   "outputs": [
    {
     "data": {
      "text/html": [
       "<div>\n",
       "<style scoped>\n",
       "    .dataframe tbody tr th:only-of-type {\n",
       "        vertical-align: middle;\n",
       "    }\n",
       "\n",
       "    .dataframe tbody tr th {\n",
       "        vertical-align: top;\n",
       "    }\n",
       "\n",
       "    .dataframe thead th {\n",
       "        text-align: right;\n",
       "    }\n",
       "</style>\n",
       "<table border=\"1\" class=\"dataframe\">\n",
       "  <thead>\n",
       "    <tr style=\"text-align: right;\">\n",
       "      <th></th>\n",
       "      <th>timestamp_utc</th>\n",
       "      <th>datetime_stamp_pacific</th>\n",
       "      <th>CompressorUnit_Details</th>\n",
       "      <th>avg_winding_temp_C</th>\n",
       "      <th>total_current_A</th>\n",
       "      <th>avg_cooling_water_flow_galpermin</th>\n",
       "      <th>avg_cooling_water_temp_C</th>\n",
       "      <th>avg_cooling_air_out_temp_C</th>\n",
       "      <th>status</th>\n",
       "    </tr>\n",
       "  </thead>\n",
       "  <tbody>\n",
       "    <tr>\n",
       "      <th>9</th>\n",
       "      <td>2018-01-01T17:00:00Z</td>\n",
       "      <td>1/1/18 9:00</td>\n",
       "      <td>C-02</td>\n",
       "      <td>61.870354</td>\n",
       "      <td>-24.951708</td>\n",
       "      <td>145.251688</td>\n",
       "      <td>9.562194</td>\n",
       "      <td>36.140652</td>\n",
       "      <td>offline</td>\n",
       "    </tr>\n",
       "    <tr>\n",
       "      <th>10</th>\n",
       "      <td>2018-01-01T18:00:00Z</td>\n",
       "      <td>1/1/18 10:00</td>\n",
       "      <td>C-02</td>\n",
       "      <td>60.605711</td>\n",
       "      <td>-25.363250</td>\n",
       "      <td>146.277500</td>\n",
       "      <td>9.674984</td>\n",
       "      <td>35.915622</td>\n",
       "      <td>offline</td>\n",
       "    </tr>\n",
       "    <tr>\n",
       "      <th>70</th>\n",
       "      <td>2018-01-04T06:00:00Z</td>\n",
       "      <td>1/3/18 22:00</td>\n",
       "      <td>C-02</td>\n",
       "      <td>62.037535</td>\n",
       "      <td>-23.788431</td>\n",
       "      <td>144.365535</td>\n",
       "      <td>10.323425</td>\n",
       "      <td>34.659779</td>\n",
       "      <td>offline</td>\n",
       "    </tr>\n",
       "    <tr>\n",
       "      <th>71</th>\n",
       "      <td>2018-01-04T07:00:00Z</td>\n",
       "      <td>1/3/18 23:00</td>\n",
       "      <td>C-02</td>\n",
       "      <td>60.542760</td>\n",
       "      <td>-25.233708</td>\n",
       "      <td>141.198264</td>\n",
       "      <td>10.051401</td>\n",
       "      <td>35.925801</td>\n",
       "      <td>offline</td>\n",
       "    </tr>\n",
       "    <tr>\n",
       "      <th>72</th>\n",
       "      <td>2018-01-04T08:00:00Z</td>\n",
       "      <td>1/4/18 0:00</td>\n",
       "      <td>C-02</td>\n",
       "      <td>59.250409</td>\n",
       "      <td>-25.346625</td>\n",
       "      <td>140.823333</td>\n",
       "      <td>9.990096</td>\n",
       "      <td>35.636136</td>\n",
       "      <td>offline</td>\n",
       "    </tr>\n",
       "  </tbody>\n",
       "</table>\n",
       "</div>"
      ],
      "text/plain": [
       "           timestamp_utc datetime_stamp_pacific CompressorUnit_Details  \\\n",
       "9   2018-01-01T17:00:00Z            1/1/18 9:00                   C-02   \n",
       "10  2018-01-01T18:00:00Z           1/1/18 10:00                   C-02   \n",
       "70  2018-01-04T06:00:00Z           1/3/18 22:00                   C-02   \n",
       "71  2018-01-04T07:00:00Z           1/3/18 23:00                   C-02   \n",
       "72  2018-01-04T08:00:00Z            1/4/18 0:00                   C-02   \n",
       "\n",
       "    avg_winding_temp_C  total_current_A  avg_cooling_water_flow_galpermin  \\\n",
       "9            61.870354       -24.951708                        145.251688   \n",
       "10           60.605711       -25.363250                        146.277500   \n",
       "70           62.037535       -23.788431                        144.365535   \n",
       "71           60.542760       -25.233708                        141.198264   \n",
       "72           59.250409       -25.346625                        140.823333   \n",
       "\n",
       "    avg_cooling_water_temp_C  avg_cooling_air_out_temp_C   status  \n",
       "9                   9.562194                   36.140652  offline  \n",
       "10                  9.674984                   35.915622  offline  \n",
       "70                 10.323425                   34.659779  offline  \n",
       "71                 10.051401                   35.925801  offline  \n",
       "72                  9.990096                   35.636136  offline  "
      ]
     },
     "execution_count": 39,
     "metadata": {},
     "output_type": "execute_result"
    }
   ],
   "source": [
    "long_df[long_df['status'] == 'offline'].head(5)\n"
   ]
  },
  {
   "cell_type": "code",
   "execution_count": 47,
   "id": "208b57a6",
   "metadata": {},
   "outputs": [
    {
     "name": "stdout",
     "output_type": "stream",
     "text": [
      "Unit C-06 was offline for 480 hours in 2018.\n"
     ]
    }
   ],
   "source": [
    "# Q2 How many total hours was Unit C6 offline in 2018?\n",
    "# Filter for C-06, offline status, and year 2018\n",
    "c06_offline_2018 = long_df[\n",
    "    (long_df['CompressorUnit_Details'] == 'C-06') &\n",
    "    (long_df['status'] == 'offline') &\n",
    "    (pd.to_datetime(long_df['timestamp_utc']).dt.year == 2018)\n",
    "                        ]\n",
    "\n",
    "# Total offline hours = number of rows (1 row per hour)\n",
    "C6_total_offline_hours= c06_offline_2018.shape[0]\n",
    "\n",
    "print(f\"Unit C-06 was offline for {C6_total_offline_hours} hours in 2018.\")"
   ]
  },
  {
   "cell_type": "code",
   "execution_count": 48,
   "id": "27f89c9a",
   "metadata": {},
   "outputs": [
    {
     "name": "stdout",
     "output_type": "stream",
     "text": [
      "Total offline hours for C-06 in each month of 2018:\n",
      "timestamp_utc\n",
      "1      29\n",
      "3      56\n",
      "6       3\n",
      "7       1\n",
      "8       9\n",
      "9     141\n",
      "10    166\n",
      "11     16\n",
      "12     59\n",
      "dtype: int64\n"
     ]
    }
   ],
   "source": [
    "#3 - How many hours was C6 offline in each month?\n",
    "\n",
    "C6_total_offline_hours_per_month = c06_offline_2018.groupby(pd.to_datetime(c06_offline_2018['timestamp_utc']).dt.month).size()\n",
    "print(\"Total offline hours for C-06 in each month of 2018:\")\n",
    "print(C6_total_offline_hours_per_month)\n"
   ]
  },
  {
   "cell_type": "code",
   "execution_count": null,
   "id": "0cbb88e3",
   "metadata": {},
   "outputs": [
    {
     "name": "stdout",
     "output_type": "stream",
     "text": [
      "Percentage of time C-06 was offline in each month of 2018:\n",
      "timestamp_utc\n",
      "1     100.0\n",
      "3     100.0\n",
      "6     100.0\n",
      "7     100.0\n",
      "8     100.0\n",
      "9     100.0\n",
      "10    100.0\n",
      "11    100.0\n",
      "12    100.0\n",
      "dtype: float64\n"
     ]
    }
   ],
   "source": [
    "#4 - What percentage of the time was C6 offline in each month?\n",
    "C6_total_hours_per_month = pd.to_datetime(c06_offline_2018['timestamp_utc']).dt.month.value_counts().sort_index()\n",
    "\n",
    "percentage_offline_per_month = (C6_total_offline_hours / total_hours_per_month)\n",
    "\n",
    "print(\"Percentage of time C-06 was offline in each month of 2018:\")\n",
    "\n",
    "print(percentage_offline_per_month * 100)  # Convert to percentage  "
   ]
  },
  {
   "cell_type": "code",
   "execution_count": null,
   "id": "a4fb049d",
   "metadata": {},
   "outputs": [
    {
     "name": "stdout",
     "output_type": "stream",
     "text": [
      "Online hours per unit in 2018:\n",
      "CompressorUnit_Details\n",
      "C-02    8441\n",
      "C-04    8447\n",
      "C-05    8716\n",
      "C-06    8280\n",
      "C-07    8563\n",
      "dtype: int64\n",
      "The unit that ran the most in 2018 is C-05 with 8716 hours online.\n"
     ]
    }
   ],
   "source": [
    "#5A - Which unit ran for the most amount of time in 2018?\n",
    "# Assumption is that the unit with the most 'online' hours is the one that ran the most.\n",
    "# Group by unit and count online hours\n",
    "\n",
    "online_hours_per_unit = long_df[long_df['status'] == 'online'].groupby('CompressorUnit_Details').size() \n",
    "print(\"Online hours per unit in 2018:\")\n",
    "print(online_hours_per_unit)    \n",
    "\n",
    "# Find the unit with the maximum online hours\n",
    "max_online_unit = online_hours_per_unit.idxmax()\n",
    "max_online_hours = online_hours_per_unit.max()\n",
    "\n",
    "print(f\"The unit that ran the most in 2018 is {max_online_unit} with {max_online_hours} hours online.\") "
   ]
  },
  {
   "cell_type": "code",
   "execution_count": null,
   "id": "763b11fc",
   "metadata": {},
   "outputs": [
    {
     "name": "stdout",
     "output_type": "stream",
     "text": [
      "Total current per unit in 2018:\n",
      "CompressorUnit_Details\n",
      "C-02    8.542301e+07\n",
      "C-04    7.970411e+07\n",
      "C-05    8.276564e+07\n",
      "C-06    7.807902e+07\n",
      "C-07    8.089645e+07\n",
      "Name: total_current_A, dtype: float64\n",
      "The unit that ran the most in 2018 based on total current is C-02 with 85423010.04763108 A.\n"
     ]
    }
   ],
   "source": [
    "#5B - Which unit ran for the most amount of time in 2018?\n",
    "#assumption is that the unit with the most total current is the one that ran the most.\n",
    "total_current_per_unit = long_df.groupby('CompressorUnit_Details')['total_current_A'].sum()\n",
    "print(\"Total current per unit in 2018:\")\n",
    "print(total_current_per_unit)\n",
    "\n",
    "#find the unit with the maximum total current\n",
    "max_current_unit = total_current_per_unit.idxmax()\n",
    "max_current_value = total_current_per_unit.max()    \n",
    "print(f\"The unit that ran the most in 2018 based on total current is {max_current_unit} with {max_current_value} A.\")"
   ]
  },
  {
   "cell_type": "code",
   "execution_count": 57,
   "id": "e103e3be",
   "metadata": {},
   "outputs": [
    {
     "name": "stdout",
     "output_type": "stream",
     "text": [
      "Offline hours per hour of the day:\n",
      "timestamp_utc\n",
      "0      20\n",
      "1      16\n",
      "2      13\n",
      "3      13\n",
      "4      15\n",
      "5      27\n",
      "6      43\n",
      "7      69\n",
      "8     109\n",
      "9     141\n",
      "10    172\n",
      "11    159\n",
      "12    121\n",
      "13     54\n",
      "14     31\n",
      "15     34\n",
      "16     39\n",
      "17     41\n",
      "18     46\n",
      "19     44\n",
      "20     42\n",
      "21     44\n",
      "22     35\n",
      "23     25\n",
      "dtype: int64\n",
      "The hour with the most offline time is 10 with 172 offline hours.\n"
     ]
    }
   ],
   "source": [
    "#6 - Which hour of the day has the most offline time?\n",
    "# count offline hours and then group by hour\n",
    "offline_hours_per_hour = long_df[long_df['status'] == 'offline'].groupby(pd.to_datetime(long_df['timestamp_utc']).dt.hour).size()\n",
    "print(\"Offline hours per hour of the day:\")\n",
    "print(offline_hours_per_hour)   \n",
    "\n",
    "#show hour with most offline time\n",
    "most_offline_hour = offline_hours_per_hour.idxmax()\n",
    "most_offline_count = offline_hours_per_hour.max()\n",
    "print(f\"The hour with the most offline time is {most_offline_hour} with {most_offline_count} offline hours.\")"
   ]
  },
  {
   "cell_type": "code",
   "execution_count": 59,
   "id": "c34c2528",
   "metadata": {},
   "outputs": [
    {
     "data": {
      "image/png": "[encoded data removed]",
      "text/plain": [
       "<Figure size 1000x600 with 1 Axes>"
      ]
     },
     "metadata": {},
     "output_type": "display_data"
    }
   ],
   "source": [
    "#Q7 - Create a graph showing the average cooling water temperature by month. Are there any other data points that have seasonality fluctuations?\n",
    "\n",
    "import matplotlib.pyplot as plt\n",
    "import pandas as pd\n",
    "# Assuming 'long_df' is your DataFrame and it has a 'timestamp_utc' column\n",
    "long_df['timestamp_utc'] = pd.to_datetime(long_df['timestamp_utc'])\n",
    "long_df['month'] = long_df['timestamp_utc'].dt.month\n",
    "avg_temp_by_month = long_df.groupby('month')['avg_cooling_air_out_temp_C'].mean()\n",
    "plt.figure(figsize=(10, 6))\n",
    "plt.plot(avg_temp_by_month.index, avg_temp_by_month.values, marker='o')\n",
    "plt.title('Average Cooling Water Temperature by Month')\n",
    "plt.xlabel('Month')\n",
    "plt.ylabel('Average Cooling Water Temperature (°C)')\n",
    "plt.xticks(range(1, 13), ['Jan', 'Feb', 'Mar', 'Apr', 'May', 'Jun', 'Jul', 'Aug', 'Sep', 'Oct', 'Nov', 'Dec'])\n",
    "plt.grid()\n",
    "plt.show()  "
   ]
  },
  {
   "cell_type": "code",
   "execution_count": null,
   "id": "e9600dcd",
   "metadata": {},
   "outputs": [],
   "source": [
    "#Q8 - Are there any apparent differences between the cooling systems of the 5 units? \n",
    "#Show the difference graphically. (I.e. Do any of the units run hotter?)"
   ]
  }
 ],
 "metadata": {
  "kernelspec": {
   "display_name": "Python 3 (ipykernel)",
   "language": "python",
   "name": "python3"
  },
  "language_info": {
   "codemirror_mode": {
    "name": "ipython",
    "version": 3
   },
   "file_extension": ".py",
   "mimetype": "text/x-python",
   "name": "python",
   "nbconvert_exporter": "python",
   "pygments_lexer": "ipython3",
   "version": "3.12.1"
  }
 },
 "nbformat": 4,
 "nbformat_minor": 5
}
